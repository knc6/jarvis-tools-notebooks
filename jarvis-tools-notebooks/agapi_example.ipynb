{
  "nbformat": 4,
  "nbformat_minor": 0,
  "metadata": {
    "colab": {
      "provenance": [],
      "authorship_tag": "ABX9TyNNbEvYuNanRD8W6jg7Sr89",
      "include_colab_link": true
    },
    "kernelspec": {
      "name": "python3",
      "display_name": "Python 3"
    },
    "language_info": {
      "name": "python"
    }
  },
  "cells": [
    {
      "cell_type": "markdown",
      "metadata": {
        "id": "view-in-github",
        "colab_type": "text"
      },
      "source": [
        "<a href=\"https://colab.research.google.com/github/knc6/jarvis-tools-notebooks/blob/master/jarvis-tools-notebooks/agapi_example.ipynb\" target=\"_parent\"><img src=\"https://colab.research.google.com/assets/colab-badge.svg\" alt=\"Open In Colab\"/></a>"
      ]
    },
    {
      "cell_type": "markdown",
      "source": [
        "# AtomGPT.org API Client"
      ],
      "metadata": {
        "id": "II9F_3WzM78G"
      }
    },
    {
      "cell_type": "markdown",
      "source": [
        "https://github.com/atomgptlab/agapi"
      ],
      "metadata": {
        "id": "oKWA2eqlM5ZH"
      }
    },
    {
      "cell_type": "code",
      "execution_count": 1,
      "metadata": {
        "colab": {
          "base_uri": "https://localhost:8080/"
        },
        "id": "Xohfuc3WGo-M",
        "outputId": "1c64a5c2-fe9d-4638-a80e-62693af4db7d"
      },
      "outputs": [
        {
          "output_type": "stream",
          "name": "stdout",
          "text": [
            "  Installing build dependencies ... \u001b[?25l\u001b[?25hdone\n",
            "  Getting requirements to build wheel ... \u001b[?25l\u001b[?25hdone\n",
            "  Preparing metadata (pyproject.toml) ... \u001b[?25l\u001b[?25hdone\n",
            "\u001b[2K   \u001b[90m━━━━━━━━━━━━━━━━━━━━━━━━━━━━━━━━━━━━━━━━\u001b[0m \u001b[32m4.2/4.2 MB\u001b[0m \u001b[31m9.8 MB/s\u001b[0m eta \u001b[36m0:00:00\u001b[0m\n",
            "\u001b[?25h  Building wheel for agapi (pyproject.toml) ... \u001b[?25l\u001b[?25hdone\n"
          ]
        }
      ],
      "source": [
        "!pip install -q git+https://github.com/atomgptlab/agapi.git@develop\n"
      ]
    },
    {
      "cell_type": "markdown",
      "source": [
        "Website: https://atomgpt.org/\n",
        "\n",
        "Profile >> Settings >> Account >> API Keys >> Show"
      ],
      "metadata": {
        "id": "wJMWMLoJKFfC"
      }
    },
    {
      "cell_type": "code",
      "source": [
        "api_key = \"sk-\""
      ],
      "metadata": {
        "id": "FucZvqiVKILt"
      },
      "execution_count": 2,
      "outputs": []
    },
    {
      "cell_type": "code",
      "source": [
        "from agapi.client import Agapi\n",
        "client = Agapi(api_key=api_key)\n",
        "r = client.ask(\"Whats the capital of US\")\n",
        "print(r)"
      ],
      "metadata": {
        "colab": {
          "base_uri": "https://localhost:8080/"
        },
        "id": "9QIDFD90GvlW",
        "outputId": "a0c1c0dd-9e0d-40fb-b240-d7f61a88f229"
      },
      "execution_count": 3,
      "outputs": [
        {
          "output_type": "stream",
          "name": "stdout",
          "text": [
            "The capital of the United States is **Washington, D.C.**\n"
          ]
        }
      ]
    },
    {
      "cell_type": "code",
      "source": [
        "import pandas as pd"
      ],
      "metadata": {
        "id": "KoNhkdgeQsA6"
      },
      "execution_count": 6,
      "outputs": []
    },
    {
      "cell_type": "code",
      "source": [
        "r = client.jarvis_dft_query(formula=\"MoS2\")\n",
        "print(pd.DataFrame(r['results']))\n"
      ],
      "metadata": {
        "colab": {
          "base_uri": "https://localhost:8080/"
        },
        "id": "SgM7SikRG5gq",
        "outputId": "66776ce5-c3ae-464b-8301-f4cfa49c5133"
      },
      "execution_count": 10,
      "outputs": [
        {
          "output_type": "stream",
          "name": "stdout",
          "text": [
            "            jid search formula spg_symbol  formation_energy_peratom  \\\n",
            "0     JVASP-228  -Mo-S    MoS2       R-3m                  -0.69909   \n",
            "1   JVASP-28379  -Mo-S    MoS2   P6_3/mmc                  -0.95754   \n",
            "2   JVASP-28413  -Mo-S    MoS2      P-3m1                  -0.92268   \n",
            "3      JVASP-51  -Mo-S    MoS2        R3m                  -0.96150   \n",
            "4    JVASP-8398  -Mo-S    MoS2      I-42d                  -0.32077   \n",
            "5   JVASP-58505  -Mo-S    MoS2      F-43m                  -0.72675   \n",
            "6   JVASP-28733  -Mo-S    MoS2   P6_3/mmc                  -0.96160   \n",
            "7      JVASP-54  -Mo-S    MoS2   P6_3/mmc                  -0.96153   \n",
            "8   JVASP-34138  -Mo-S    MoS2   P6_3/mmc                  -0.96135   \n",
            "9  JVASP-111117  -Mo-S    MoS2      P-3m1                  -0.69305   \n",
            "\n",
            "   optb88vdw_bandgap                                                XML  \n",
            "0              0.000  <a href=\"https://www.ctcms.nist.gov/~knc6/stat...  \n",
            "1              0.958  <a href=\"https://www.ctcms.nist.gov/~knc6/stat...  \n",
            "2              1.207  <a href=\"https://www.ctcms.nist.gov/~knc6/stat...  \n",
            "3              0.955  <a href=\"https://www.ctcms.nist.gov/~knc6/stat...  \n",
            "4              0.000  <a href=\"https://www.ctcms.nist.gov/~knc6/stat...  \n",
            "5              0.000  <a href=\"https://www.ctcms.nist.gov/~knc6/stat...  \n",
            "6              0.921  <a href=\"https://www.ctcms.nist.gov/~knc6/stat...  \n",
            "7              0.922  <a href=\"https://www.ctcms.nist.gov/~knc6/stat...  \n",
            "8              0.920  <a href=\"https://www.ctcms.nist.gov/~knc6/stat...  \n",
            "9              0.000  <a href=\"https://www.ctcms.nist.gov/~knc6/stat...  \n"
          ]
        }
      ]
    },
    {
      "cell_type": "code",
      "source": [
        "!wget https://raw.githubusercontent.com/atomgptlab/agapi/refs/heads/main/agapi/images/POSCAR -O POSCAR"
      ],
      "metadata": {
        "colab": {
          "base_uri": "https://localhost:8080/"
        },
        "id": "pfx-HXpEJv5A",
        "outputId": "5cac804a-8d75-4e46-9923-cfc5585c3fe7"
      },
      "execution_count": 8,
      "outputs": [
        {
          "output_type": "stream",
          "name": "stdout",
          "text": [
            "--2025-09-19 18:36:20--  https://raw.githubusercontent.com/atomgptlab/agapi/refs/heads/main/agapi/images/POSCAR\n",
            "Resolving raw.githubusercontent.com (raw.githubusercontent.com)... 185.199.109.133, 185.199.111.133, 185.199.108.133, ...\n",
            "Connecting to raw.githubusercontent.com (raw.githubusercontent.com)|185.199.109.133|:443... connected.\n",
            "HTTP request sent, awaiting response... 200 OK\n",
            "Length: 194 [text/plain]\n",
            "Saving to: ‘POSCAR’\n",
            "\n",
            "POSCAR              100%[===================>]     194  --.-KB/s    in 0s      \n",
            "\n",
            "2025-09-19 18:36:21 (8.87 MB/s) - ‘POSCAR’ saved [194/194]\n",
            "\n"
          ]
        }
      ]
    },
    {
      "cell_type": "code",
      "source": [
        "!ls"
      ],
      "metadata": {
        "colab": {
          "base_uri": "https://localhost:8080/"
        },
        "id": "dTdm0zWCJX7i",
        "outputId": "ed6c86c1-4b87-4d66-abf7-b0ccad7eda9d"
      },
      "execution_count": null,
      "outputs": [
        {
          "output_type": "stream",
          "name": "stdout",
          "text": [
            "POSCAR\tsample_data\n"
          ]
        }
      ]
    },
    {
      "cell_type": "code",
      "source": [
        "r = client.alignn_query(file_path=\"POSCAR\")"
      ],
      "metadata": {
        "id": "A7vD05snJyrb"
      },
      "execution_count": null,
      "outputs": []
    },
    {
      "cell_type": "code",
      "source": [
        "r"
      ],
      "metadata": {
        "colab": {
          "base_uri": "https://localhost:8080/"
        },
        "id": "a8upGQ1HJ7ld",
        "outputId": "4cd69c1f-23f4-4581-ae36-60044b3d335d"
      },
      "execution_count": null,
      "outputs": [
        {
          "output_type": "execute_result",
          "data": {
            "text/plain": [
              "{'jv_formation_energy_peratom_alignn': [0.0007288381457328796],\n",
              " 'jv_optb88vdw_total_energy_alignn': [-4.080363750457764],\n",
              " 'jv_optb88vdw_bandgap_alignn': [0.04157217592000961],\n",
              " 'jv_mbj_bandgap_alignn': [0.49050453305244446],\n",
              " 'jv_bulk_modulus_kv_alignn': [82.80049896240234],\n",
              " 'jv_shear_modulus_gv_alignn': [58.17045974731445],\n",
              " 'jv_dfpt_piezo_max_dielectric_alignn': [13.689010620117188],\n",
              " 'jv_supercon_tc_alignn': [4.345114231109619]}"
            ]
          },
          "metadata": {},
          "execution_count": 10
        }
      ]
    },
    {
      "cell_type": "code",
      "source": [],
      "metadata": {
        "id": "JABi551XKOcL"
      },
      "execution_count": null,
      "outputs": []
    }
  ]
}