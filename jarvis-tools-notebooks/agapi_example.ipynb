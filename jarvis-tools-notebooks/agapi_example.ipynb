{
  "nbformat": 4,
  "nbformat_minor": 0,
  "metadata": {
    "colab": {
      "provenance": [],
      "authorship_tag": "ABX9TyOCaOkMFMMsbqJLzv3+2o1o",
      "include_colab_link": true
    },
    "kernelspec": {
      "name": "python3",
      "display_name": "Python 3"
    },
    "language_info": {
      "name": "python"
    }
  },
  "cells": [
    {
      "cell_type": "markdown",
      "metadata": {
        "id": "view-in-github",
        "colab_type": "text"
      },
      "source": [
        "<a href=\"https://colab.research.google.com/github/knc6/jarvis-tools-notebooks/blob/master/jarvis-tools-notebooks/agapi_example.ipynb\" target=\"_parent\"><img src=\"https://colab.research.google.com/assets/colab-badge.svg\" alt=\"Open In Colab\"/></a>"
      ]
    },
    {
      "cell_type": "markdown",
      "source": [
        "# AtomGPT.org API Client"
      ],
      "metadata": {
        "id": "II9F_3WzM78G"
      }
    },
    {
      "cell_type": "markdown",
      "source": [
        "https://github.com/atomgptlab/agapi"
      ],
      "metadata": {
        "id": "oKWA2eqlM5ZH"
      }
    },
    {
      "cell_type": "code",
      "execution_count": null,
      "metadata": {
        "colab": {
          "base_uri": "https://localhost:8080/"
        },
        "id": "Xohfuc3WGo-M",
        "outputId": "3e34a0bd-3be4-473f-b0f6-5338765419f6"
      },
      "outputs": [
        {
          "output_type": "stream",
          "name": "stdout",
          "text": [
            "Collecting git+https://github.com/atomgptlab/agapi.git@develop\n",
            "  Cloning https://github.com/atomgptlab/agapi.git (to revision develop) to /tmp/pip-req-build-m3yxer_7\n",
            "  Running command git clone --filter=blob:none --quiet https://github.com/atomgptlab/agapi.git /tmp/pip-req-build-m3yxer_7\n",
            "  Running command git checkout -b develop --track origin/develop\n",
            "  Switched to a new branch 'develop'\n",
            "  Branch 'develop' set up to track remote branch 'develop' from 'origin'.\n",
            "  Resolved https://github.com/atomgptlab/agapi.git to commit d168dc91b6e60fd59e8e4d07695f7155e2afba3e\n",
            "  Installing build dependencies ... \u001b[?25l\u001b[?25hdone\n",
            "  Getting requirements to build wheel ... \u001b[?25l\u001b[?25hdone\n",
            "  Preparing metadata (pyproject.toml) ... \u001b[?25l\u001b[?25hdone\n",
            "Requirement already satisfied: requests>=2.31.0 in /usr/local/lib/python3.12/dist-packages (from agapi==9.10.2025) (2.32.4)\n",
            "Collecting jarvis-tools (from agapi==9.10.2025)\n",
            "  Downloading jarvis_tools-2025.5.30-py2.py3-none-any.whl.metadata (3.2 kB)\n",
            "Requirement already satisfied: charset_normalizer<4,>=2 in /usr/local/lib/python3.12/dist-packages (from requests>=2.31.0->agapi==9.10.2025) (3.4.3)\n",
            "Requirement already satisfied: idna<4,>=2.5 in /usr/local/lib/python3.12/dist-packages (from requests>=2.31.0->agapi==9.10.2025) (3.10)\n",
            "Requirement already satisfied: urllib3<3,>=1.21.1 in /usr/local/lib/python3.12/dist-packages (from requests>=2.31.0->agapi==9.10.2025) (2.5.0)\n",
            "Requirement already satisfied: certifi>=2017.4.17 in /usr/local/lib/python3.12/dist-packages (from requests>=2.31.0->agapi==9.10.2025) (2025.8.3)\n",
            "Requirement already satisfied: numpy>=1.20.1 in /usr/local/lib/python3.12/dist-packages (from jarvis-tools->agapi==9.10.2025) (2.0.2)\n",
            "Requirement already satisfied: scipy>=1.5.0 in /usr/local/lib/python3.12/dist-packages (from jarvis-tools->agapi==9.10.2025) (1.16.1)\n",
            "Requirement already satisfied: matplotlib>=3.0.0 in /usr/local/lib/python3.12/dist-packages (from jarvis-tools->agapi==9.10.2025) (3.10.0)\n",
            "Requirement already satisfied: joblib>=0.14.1 in /usr/local/lib/python3.12/dist-packages (from jarvis-tools->agapi==9.10.2025) (1.5.2)\n",
            "Requirement already satisfied: toolz>=0.9.0 in /usr/local/lib/python3.12/dist-packages (from jarvis-tools->agapi==9.10.2025) (0.12.1)\n",
            "Collecting xmltodict>=0.11.0 (from jarvis-tools->agapi==9.10.2025)\n",
            "  Downloading xmltodict-1.0.2-py3-none-any.whl.metadata (15 kB)\n",
            "Requirement already satisfied: tqdm>=4.41.1 in /usr/local/lib/python3.12/dist-packages (from jarvis-tools->agapi==9.10.2025) (4.67.1)\n",
            "Requirement already satisfied: scikit-learn in /usr/local/lib/python3.12/dist-packages (from jarvis-tools->agapi==9.10.2025) (1.6.1)\n",
            "Requirement already satisfied: contourpy>=1.0.1 in /usr/local/lib/python3.12/dist-packages (from matplotlib>=3.0.0->jarvis-tools->agapi==9.10.2025) (1.3.3)\n",
            "Requirement already satisfied: cycler>=0.10 in /usr/local/lib/python3.12/dist-packages (from matplotlib>=3.0.0->jarvis-tools->agapi==9.10.2025) (0.12.1)\n",
            "Requirement already satisfied: fonttools>=4.22.0 in /usr/local/lib/python3.12/dist-packages (from matplotlib>=3.0.0->jarvis-tools->agapi==9.10.2025) (4.59.2)\n",
            "Requirement already satisfied: kiwisolver>=1.3.1 in /usr/local/lib/python3.12/dist-packages (from matplotlib>=3.0.0->jarvis-tools->agapi==9.10.2025) (1.4.9)\n",
            "Requirement already satisfied: packaging>=20.0 in /usr/local/lib/python3.12/dist-packages (from matplotlib>=3.0.0->jarvis-tools->agapi==9.10.2025) (25.0)\n",
            "Requirement already satisfied: pillow>=8 in /usr/local/lib/python3.12/dist-packages (from matplotlib>=3.0.0->jarvis-tools->agapi==9.10.2025) (11.3.0)\n",
            "Requirement already satisfied: pyparsing>=2.3.1 in /usr/local/lib/python3.12/dist-packages (from matplotlib>=3.0.0->jarvis-tools->agapi==9.10.2025) (3.2.3)\n",
            "Requirement already satisfied: python-dateutil>=2.7 in /usr/local/lib/python3.12/dist-packages (from matplotlib>=3.0.0->jarvis-tools->agapi==9.10.2025) (2.9.0.post0)\n",
            "Requirement already satisfied: threadpoolctl>=3.1.0 in /usr/local/lib/python3.12/dist-packages (from scikit-learn->jarvis-tools->agapi==9.10.2025) (3.6.0)\n",
            "Requirement already satisfied: six>=1.5 in /usr/local/lib/python3.12/dist-packages (from python-dateutil>=2.7->matplotlib>=3.0.0->jarvis-tools->agapi==9.10.2025) (1.17.0)\n",
            "Downloading jarvis_tools-2025.5.30-py2.py3-none-any.whl (4.2 MB)\n",
            "\u001b[2K   \u001b[90m━━━━━━━━━━━━━━━━━━━━━━━━━━━━━━━━━━━━━━━━\u001b[0m \u001b[32m4.2/4.2 MB\u001b[0m \u001b[31m38.2 MB/s\u001b[0m eta \u001b[36m0:00:00\u001b[0m\n",
            "\u001b[?25hDownloading xmltodict-1.0.2-py3-none-any.whl (13 kB)\n",
            "Building wheels for collected packages: agapi\n",
            "  Building wheel for agapi (pyproject.toml) ... \u001b[?25l\u001b[?25hdone\n",
            "  Created wheel for agapi: filename=agapi-9.10.2025-py3-none-any.whl size=9996 sha256=c7d2dc4b153ddd76517c1fe0e4cf7b01b7359e91d2bff97eb92ed655cb14d594\n",
            "  Stored in directory: /tmp/pip-ephem-wheel-cache-aqv9l6uh/wheels/0d/ee/9b/14d3ee83e679f90af31a03de012bcd98519c405ebca88e373e\n",
            "Successfully built agapi\n",
            "Installing collected packages: xmltodict, jarvis-tools, agapi\n",
            "Successfully installed agapi-9.10.2025 jarvis-tools-2025.5.30 xmltodict-1.0.2\n"
          ]
        }
      ],
      "source": [
        "!pip install git+https://github.com/atomgptlab/agapi.git@develop\n"
      ]
    },
    {
      "cell_type": "markdown",
      "source": [
        "Website: https://atomgpt.org/\n",
        "\n",
        "Profile >> Settings >> Account >> API Keys >> Show"
      ],
      "metadata": {
        "id": "wJMWMLoJKFfC"
      }
    },
    {
      "cell_type": "code",
      "source": [
        "api_key = \"sk-\""
      ],
      "metadata": {
        "id": "FucZvqiVKILt"
      },
      "execution_count": null,
      "outputs": []
    },
    {
      "cell_type": "code",
      "source": [
        "from agapi.client import Agapi\n",
        "client = Agapi(api_key=api_key)\n",
        "r = client.ask(\"Whats the capital of US\")\n",
        "print(r)"
      ],
      "metadata": {
        "colab": {
          "base_uri": "https://localhost:8080/"
        },
        "id": "9QIDFD90GvlW",
        "outputId": "5d535812-dedd-479c-dbc6-80fc260957b7"
      },
      "execution_count": null,
      "outputs": [
        {
          "output_type": "stream",
          "name": "stdout",
          "text": [
            "Washington, D.C.\n"
          ]
        }
      ]
    },
    {
      "cell_type": "code",
      "source": [
        "r = client.jarvis_dft_query(formula=\"MoS2\")\n",
        "print(r)"
      ],
      "metadata": {
        "colab": {
          "base_uri": "https://localhost:8080/"
        },
        "id": "SgM7SikRG5gq",
        "outputId": "f33db029-6aa9-4618-b9c3-45ac26ee0fcc"
      },
      "execution_count": null,
      "outputs": [
        {
          "output_type": "stream",
          "name": "stdout",
          "text": [
            "{'total': 10, 'offset': 0, 'limit': 100, 'returned': 10, 'results': [{'jid': 'JVASP-228', 'search': '-Mo-S', 'formula': 'MoS2', 'spg_symbol': 'R-3m', 'formation_energy_peratom': -0.69909, 'optb88vdw_bandgap': 0.0, 'XML': '<a href=\"https://www.ctcms.nist.gov/~knc6/static/JARVIS-DFT/JVASP-228\" target=\"_blank\">Link</a>'}, {'jid': 'JVASP-28379', 'search': '-Mo-S', 'formula': 'MoS2', 'spg_symbol': 'P6_3/mmc', 'formation_energy_peratom': -0.95754, 'optb88vdw_bandgap': 0.958, 'XML': '<a href=\"https://www.ctcms.nist.gov/~knc6/static/JARVIS-DFT/JVASP-28379\" target=\"_blank\">Link</a>'}, {'jid': 'JVASP-28413', 'search': '-Mo-S', 'formula': 'MoS2', 'spg_symbol': 'P-3m1', 'formation_energy_peratom': -0.92268, 'optb88vdw_bandgap': 1.207, 'XML': '<a href=\"https://www.ctcms.nist.gov/~knc6/static/JARVIS-DFT/JVASP-28413\" target=\"_blank\">Link</a>'}, {'jid': 'JVASP-51', 'search': '-Mo-S', 'formula': 'MoS2', 'spg_symbol': 'R3m', 'formation_energy_peratom': -0.9615, 'optb88vdw_bandgap': 0.955, 'XML': '<a href=\"https://www.ctcms.nist.gov/~knc6/static/JARVIS-DFT/JVASP-51\" target=\"_blank\">Link</a>'}, {'jid': 'JVASP-8398', 'search': '-Mo-S', 'formula': 'MoS2', 'spg_symbol': 'I-42d', 'formation_energy_peratom': -0.32077, 'optb88vdw_bandgap': 0.0, 'XML': '<a href=\"https://www.ctcms.nist.gov/~knc6/static/JARVIS-DFT/JVASP-8398\" target=\"_blank\">Link</a>'}, {'jid': 'JVASP-58505', 'search': '-Mo-S', 'formula': 'MoS2', 'spg_symbol': 'F-43m', 'formation_energy_peratom': -0.72675, 'optb88vdw_bandgap': 0.0, 'XML': '<a href=\"https://www.ctcms.nist.gov/~knc6/static/JARVIS-DFT/JVASP-58505\" target=\"_blank\">Link</a>'}, {'jid': 'JVASP-28733', 'search': '-Mo-S', 'formula': 'MoS2', 'spg_symbol': 'P6_3/mmc', 'formation_energy_peratom': -0.9616, 'optb88vdw_bandgap': 0.921, 'XML': '<a href=\"https://www.ctcms.nist.gov/~knc6/static/JARVIS-DFT/JVASP-28733\" target=\"_blank\">Link</a>'}, {'jid': 'JVASP-54', 'search': '-Mo-S', 'formula': 'MoS2', 'spg_symbol': 'P6_3/mmc', 'formation_energy_peratom': -0.96153, 'optb88vdw_bandgap': 0.922, 'XML': '<a href=\"https://www.ctcms.nist.gov/~knc6/static/JARVIS-DFT/JVASP-54\" target=\"_blank\">Link</a>'}, {'jid': 'JVASP-34138', 'search': '-Mo-S', 'formula': 'MoS2', 'spg_symbol': 'P6_3/mmc', 'formation_energy_peratom': -0.96135, 'optb88vdw_bandgap': 0.92, 'XML': '<a href=\"https://www.ctcms.nist.gov/~knc6/static/JARVIS-DFT/JVASP-34138\" target=\"_blank\">Link</a>'}, {'jid': 'JVASP-111117', 'search': '-Mo-S', 'formula': 'MoS2', 'spg_symbol': 'P-3m1', 'formation_energy_peratom': -0.69305, 'optb88vdw_bandgap': 0.0, 'XML': '<a href=\"https://www.ctcms.nist.gov/~knc6/static/JARVIS-DFT/JVASP-111117\" target=\"_blank\">Link</a>'}]}\n"
          ]
        }
      ]
    },
    {
      "cell_type": "code",
      "source": [
        "!wget https://raw.githubusercontent.com/atomgptlab/agapi/refs/heads/main/agapi/images/POSCAR -O POSCAR"
      ],
      "metadata": {
        "colab": {
          "base_uri": "https://localhost:8080/"
        },
        "id": "pfx-HXpEJv5A",
        "outputId": "7eddd98e-b7bb-49e3-bbac-d448df8d3da4"
      },
      "execution_count": null,
      "outputs": [
        {
          "output_type": "stream",
          "name": "stdout",
          "text": [
            "--2025-09-19 18:05:33--  https://raw.githubusercontent.com/atomgptlab/agapi/refs/heads/main/agapi/images/POSCAR\n",
            "Resolving raw.githubusercontent.com (raw.githubusercontent.com)... 185.199.110.133, 185.199.109.133, 185.199.111.133, ...\n",
            "Connecting to raw.githubusercontent.com (raw.githubusercontent.com)|185.199.110.133|:443... connected.\n",
            "HTTP request sent, awaiting response... 200 OK\n",
            "Length: 194 [text/plain]\n",
            "Saving to: ‘POSCAR’\n",
            "\n",
            "\rPOSCAR                0%[                    ]       0  --.-KB/s               \rPOSCAR              100%[===================>]     194  --.-KB/s    in 0s      \n",
            "\n",
            "2025-09-19 18:05:33 (3.66 MB/s) - ‘POSCAR’ saved [194/194]\n",
            "\n"
          ]
        }
      ]
    },
    {
      "cell_type": "code",
      "source": [
        "!ls"
      ],
      "metadata": {
        "colab": {
          "base_uri": "https://localhost:8080/"
        },
        "id": "dTdm0zWCJX7i",
        "outputId": "ed6c86c1-4b87-4d66-abf7-b0ccad7eda9d"
      },
      "execution_count": null,
      "outputs": [
        {
          "output_type": "stream",
          "name": "stdout",
          "text": [
            "POSCAR\tsample_data\n"
          ]
        }
      ]
    },
    {
      "cell_type": "code",
      "source": [
        "r = client.alignn_query(file_path=\"POSCAR\")"
      ],
      "metadata": {
        "id": "A7vD05snJyrb"
      },
      "execution_count": null,
      "outputs": []
    },
    {
      "cell_type": "code",
      "source": [
        "r"
      ],
      "metadata": {
        "colab": {
          "base_uri": "https://localhost:8080/"
        },
        "id": "a8upGQ1HJ7ld",
        "outputId": "4cd69c1f-23f4-4581-ae36-60044b3d335d"
      },
      "execution_count": null,
      "outputs": [
        {
          "output_type": "execute_result",
          "data": {
            "text/plain": [
              "{'jv_formation_energy_peratom_alignn': [0.0007288381457328796],\n",
              " 'jv_optb88vdw_total_energy_alignn': [-4.080363750457764],\n",
              " 'jv_optb88vdw_bandgap_alignn': [0.04157217592000961],\n",
              " 'jv_mbj_bandgap_alignn': [0.49050453305244446],\n",
              " 'jv_bulk_modulus_kv_alignn': [82.80049896240234],\n",
              " 'jv_shear_modulus_gv_alignn': [58.17045974731445],\n",
              " 'jv_dfpt_piezo_max_dielectric_alignn': [13.689010620117188],\n",
              " 'jv_supercon_tc_alignn': [4.345114231109619]}"
            ]
          },
          "metadata": {},
          "execution_count": 10
        }
      ]
    },
    {
      "cell_type": "code",
      "source": [],
      "metadata": {
        "id": "JABi551XKOcL"
      },
      "execution_count": null,
      "outputs": []
    }
  ]
}