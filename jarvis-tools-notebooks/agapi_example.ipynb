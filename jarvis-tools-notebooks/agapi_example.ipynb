{
  "nbformat": 4,
  "nbformat_minor": 0,
  "metadata": {
    "colab": {
      "provenance": [],
      "authorship_tag": "ABX9TyOlLiSHYpAwq5GFxXx1KIQH",
      "include_colab_link": true
    },
    "kernelspec": {
      "name": "python3",
      "display_name": "Python 3"
    },
    "language_info": {
      "name": "python"
    }
  },
  "cells": [
    {
      "cell_type": "markdown",
      "metadata": {
        "id": "view-in-github",
        "colab_type": "text"
      },
      "source": [
        "<a href=\"https://colab.research.google.com/github/knc6/jarvis-tools-notebooks/blob/master/jarvis-tools-notebooks/agapi_example.ipynb\" target=\"_parent\"><img src=\"https://colab.research.google.com/assets/colab-badge.svg\" alt=\"Open In Colab\"/></a>"
      ]
    },
    {
      "cell_type": "markdown",
      "source": [
        "# AtomGPT.org API Client"
      ],
      "metadata": {
        "id": "II9F_3WzM78G"
      }
    },
    {
      "cell_type": "markdown",
      "source": [
        "https://github.com/atomgptlab/agapi"
      ],
      "metadata": {
        "id": "oKWA2eqlM5ZH"
      }
    },
    {
      "cell_type": "code",
      "execution_count": 1,
      "metadata": {
        "colab": {
          "base_uri": "https://localhost:8080/"
        },
        "id": "Xohfuc3WGo-M",
        "outputId": "e15d25e7-4c73-44a5-bba5-00d20d1357d9"
      },
      "outputs": [
        {
          "output_type": "stream",
          "name": "stdout",
          "text": [
            "  Installing build dependencies ... \u001b[?25l\u001b[?25hdone\n",
            "  Getting requirements to build wheel ... \u001b[?25l\u001b[?25hdone\n",
            "  Preparing metadata (pyproject.toml) ... \u001b[?25l\u001b[?25hdone\n",
            "\u001b[2K   \u001b[90m━━━━━━━━━━━━━━━━━━━━━━━━━━━━━━━━━━━━━━━━\u001b[0m \u001b[32m4.2/4.2 MB\u001b[0m \u001b[31m78.1 MB/s\u001b[0m eta \u001b[36m0:00:00\u001b[0m\n",
            "\u001b[?25h  Building wheel for agapi (pyproject.toml) ... \u001b[?25l\u001b[?25hdone\n"
          ]
        }
      ],
      "source": [
        "!pip install -q git+https://github.com/atomgptlab/agapi.git@develop\n"
      ]
    },
    {
      "cell_type": "markdown",
      "source": [
        "Website: https://atomgpt.org/\n",
        "\n",
        "Profile >> Settings >> Account >> API Keys >> Show"
      ],
      "metadata": {
        "id": "wJMWMLoJKFfC"
      }
    },
    {
      "cell_type": "code",
      "source": [
        "api_key = \"sk-\""
      ],
      "metadata": {
        "id": "FucZvqiVKILt"
      },
      "execution_count": 2,
      "outputs": []
    },
    {
      "cell_type": "code",
      "source": [
        "from agapi.client import Agapi\n",
        "client = Agapi(api_key=api_key)\n",
        "r = client.ask(\"Whats the capital of US\")\n",
        "print(r)"
      ],
      "metadata": {
        "colab": {
          "base_uri": "https://localhost:8080/"
        },
        "id": "9QIDFD90GvlW",
        "outputId": "1ad71fc8-7800-4657-df1f-fcd0f73ccdac"
      },
      "execution_count": 3,
      "outputs": [
        {
          "output_type": "stream",
          "name": "stdout",
          "text": [
            "The capital of the United States is **Washington, D.C.**\n"
          ]
        }
      ]
    },
    {
      "cell_type": "code",
      "source": [
        "import pandas as pd"
      ],
      "metadata": {
        "id": "KoNhkdgeQsA6"
      },
      "execution_count": 4,
      "outputs": []
    },
    {
      "cell_type": "code",
      "source": [
        "r = client.jarvis_dft_query(formula=\"MoS2\")\n",
        "print(pd.DataFrame(r['results']))\n"
      ],
      "metadata": {
        "colab": {
          "base_uri": "https://localhost:8080/"
        },
        "id": "SgM7SikRG5gq",
        "outputId": "d7f0b030-fdd7-41fb-ba4b-4fb381e0ef7c"
      },
      "execution_count": 5,
      "outputs": [
        {
          "output_type": "stream",
          "name": "stdout",
          "text": [
            "            jid search formula spg_symbol  formation_energy_peratom  \\\n",
            "0     JVASP-228  -Mo-S    MoS2       R-3m                  -0.69909   \n",
            "1   JVASP-28379  -Mo-S    MoS2   P6_3/mmc                  -0.95754   \n",
            "2   JVASP-28413  -Mo-S    MoS2      P-3m1                  -0.92268   \n",
            "3      JVASP-51  -Mo-S    MoS2        R3m                  -0.96150   \n",
            "4    JVASP-8398  -Mo-S    MoS2      I-42d                  -0.32077   \n",
            "5   JVASP-58505  -Mo-S    MoS2      F-43m                  -0.72675   \n",
            "6   JVASP-28733  -Mo-S    MoS2   P6_3/mmc                  -0.96160   \n",
            "7      JVASP-54  -Mo-S    MoS2   P6_3/mmc                  -0.96153   \n",
            "8   JVASP-34138  -Mo-S    MoS2   P6_3/mmc                  -0.96135   \n",
            "9  JVASP-111117  -Mo-S    MoS2      P-3m1                  -0.69305   \n",
            "\n",
            "   optb88vdw_bandgap                                                XML  \n",
            "0              0.000  <a href=\"https://www.ctcms.nist.gov/~knc6/stat...  \n",
            "1              0.958  <a href=\"https://www.ctcms.nist.gov/~knc6/stat...  \n",
            "2              1.207  <a href=\"https://www.ctcms.nist.gov/~knc6/stat...  \n",
            "3              0.955  <a href=\"https://www.ctcms.nist.gov/~knc6/stat...  \n",
            "4              0.000  <a href=\"https://www.ctcms.nist.gov/~knc6/stat...  \n",
            "5              0.000  <a href=\"https://www.ctcms.nist.gov/~knc6/stat...  \n",
            "6              0.921  <a href=\"https://www.ctcms.nist.gov/~knc6/stat...  \n",
            "7              0.922  <a href=\"https://www.ctcms.nist.gov/~knc6/stat...  \n",
            "8              0.920  <a href=\"https://www.ctcms.nist.gov/~knc6/stat...  \n",
            "9              0.000  <a href=\"https://www.ctcms.nist.gov/~knc6/stat...  \n"
          ]
        }
      ]
    },
    {
      "cell_type": "code",
      "source": [
        "!wget https://raw.githubusercontent.com/atomgptlab/agapi/refs/heads/main/agapi/images/POSCAR -O POSCAR"
      ],
      "metadata": {
        "colab": {
          "base_uri": "https://localhost:8080/"
        },
        "id": "pfx-HXpEJv5A",
        "outputId": "f97cc701-cc13-4e3b-f813-997a2aca02b0"
      },
      "execution_count": 6,
      "outputs": [
        {
          "output_type": "stream",
          "name": "stdout",
          "text": [
            "--2025-09-19 18:43:11--  https://raw.githubusercontent.com/atomgptlab/agapi/refs/heads/main/agapi/images/POSCAR\n",
            "Resolving raw.githubusercontent.com (raw.githubusercontent.com)... 185.199.108.133, 185.199.109.133, 185.199.110.133, ...\n",
            "Connecting to raw.githubusercontent.com (raw.githubusercontent.com)|185.199.108.133|:443... connected.\n",
            "HTTP request sent, awaiting response... 200 OK\n",
            "Length: 194 [text/plain]\n",
            "Saving to: ‘POSCAR’\n",
            "\n",
            "\rPOSCAR                0%[                    ]       0  --.-KB/s               \rPOSCAR              100%[===================>]     194  --.-KB/s    in 0s      \n",
            "\n",
            "2025-09-19 18:43:11 (10.3 MB/s) - ‘POSCAR’ saved [194/194]\n",
            "\n"
          ]
        }
      ]
    },
    {
      "cell_type": "code",
      "source": [
        "!ls"
      ],
      "metadata": {
        "colab": {
          "base_uri": "https://localhost:8080/"
        },
        "id": "dTdm0zWCJX7i",
        "outputId": "376cb264-e236-47c9-a223-5bd180350adf"
      },
      "execution_count": 7,
      "outputs": [
        {
          "output_type": "stream",
          "name": "stdout",
          "text": [
            "POSCAR\tsample_data\n"
          ]
        }
      ]
    },
    {
      "cell_type": "code",
      "source": [
        "r = client.alignn_query(file_path=\"POSCAR\")"
      ],
      "metadata": {
        "id": "A7vD05snJyrb"
      },
      "execution_count": 8,
      "outputs": []
    },
    {
      "cell_type": "code",
      "source": [
        "r"
      ],
      "metadata": {
        "colab": {
          "base_uri": "https://localhost:8080/"
        },
        "id": "a8upGQ1HJ7ld",
        "outputId": "3ac5e498-175c-4bb0-8c34-0bca5608b6d6"
      },
      "execution_count": 9,
      "outputs": [
        {
          "output_type": "execute_result",
          "data": {
            "text/plain": [
              "{'jv_formation_energy_peratom_alignn': [0.0007288381457328796],\n",
              " 'jv_optb88vdw_total_energy_alignn': [-4.080363750457764],\n",
              " 'jv_optb88vdw_bandgap_alignn': [0.04157217592000961],\n",
              " 'jv_mbj_bandgap_alignn': [0.49050453305244446],\n",
              " 'jv_bulk_modulus_kv_alignn': [82.80049896240234],\n",
              " 'jv_shear_modulus_gv_alignn': [58.17045974731445],\n",
              " 'jv_dfpt_piezo_max_dielectric_alignn': [13.689010620117188],\n",
              " 'jv_supercon_tc_alignn': [4.345114231109619]}"
            ]
          },
          "metadata": {},
          "execution_count": 9
        }
      ]
    },
    {
      "cell_type": "code",
      "source": [
        "r = client.alignn_ff_query(poscar_string=open(\"POSCAR\").read())"
      ],
      "metadata": {
        "id": "JABi551XKOcL"
      },
      "execution_count": 10,
      "outputs": []
    },
    {
      "cell_type": "code",
      "source": [
        "r"
      ],
      "metadata": {
        "id": "HSk2SGvzSijM",
        "outputId": "deef2db3-2ee0-476c-beba-e05f6e5d1425",
        "colab": {
          "base_uri": "https://localhost:8080/"
        }
      },
      "execution_count": 11,
      "outputs": [
        {
          "output_type": "execute_result",
          "data": {
            "text/plain": [
              "{'original': 'System\\n1.0\\n5.0 0.0 0.0\\n0.0 5.0 0.0\\n0.0 0.0 5.0\\nSi \\n8 \\ndirect\\n0.25 0.75 0.25 Si\\n0.0 0.0 0.5 Si\\n0.25 0.25 0.75 Si\\n0.0 0.5 0.0 Si\\n0.75 0.75 0.75 Si\\n0.5 0.0 0.0 Si\\n0.75 0.25 0.25 Si\\n0.5 0.5 0.5 Si\\n',\n",
              " 'relaxed': 'System\\n1.0\\n5.470787520581316 1.1197091382296029e-09 -3.116709665179013e-09\\n1.1197091382296029e-09 5.470787516753281 -4.9332194424221735e-09\\n-3.116709665179013e-09 -4.9332194424221735e-09 5.470787522967391\\nSi \\n8 \\ndirect\\n0.24999987220888933 0.7499996481108817 0.2499998860706908 Si\\n5.7524347295233925e-09 6.926140768301e-09 0.49999977072367774 Si\\n0.24999988745019122 0.24999989388069369 0.7499996674379642 Si\\n3.6391282772463437e-09 0.49999977177400834 1.042836852931786e-08 Si\\n0.7499996549096223 0.7499996402695267 0.7499996541808769 Si\\n0.4999997796761251 2.1350837086109454e-08 -1.1245769996195182e-08 Si\\n0.7499996597945704 0.24999987119322592 0.2499998628961454 Si\\n0.4999997749813237 0.4999997765260316 0.49999979300155606 Si\\n'}"
            ]
          },
          "metadata": {},
          "execution_count": 11
        }
      ]
    },
    {
      "cell_type": "code",
      "source": [],
      "metadata": {
        "id": "BhMNU-O2SjjR"
      },
      "execution_count": null,
      "outputs": []
    }
  ]
}