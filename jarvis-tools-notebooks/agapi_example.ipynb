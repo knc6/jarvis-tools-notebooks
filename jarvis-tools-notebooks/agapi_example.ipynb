{
  "nbformat": 4,
  "nbformat_minor": 0,
  "metadata": {
    "colab": {
      "provenance": [],
      "authorship_tag": "ABX9TyMCDwflEAhp5aboiKYvORtQ",
      "include_colab_link": true
    },
    "kernelspec": {
      "name": "python3",
      "display_name": "Python 3"
    },
    "language_info": {
      "name": "python"
    }
  },
  "cells": [
    {
      "cell_type": "markdown",
      "metadata": {
        "id": "view-in-github",
        "colab_type": "text"
      },
      "source": [
        "<a href=\"https://colab.research.google.com/github/knc6/jarvis-tools-notebooks/blob/master/jarvis-tools-notebooks/agapi_example.ipynb\" target=\"_parent\"><img src=\"https://colab.research.google.com/assets/colab-badge.svg\" alt=\"Open In Colab\"/></a>"
      ]
    },
    {
      "cell_type": "markdown",
      "source": [
        "# AtomGPT.org API (AGAPI) Client"
      ],
      "metadata": {
        "id": "II9F_3WzM78G"
      }
    },
    {
      "cell_type": "markdown",
      "source": [
        "https://github.com/atomgptlab/agapi"
      ],
      "metadata": {
        "id": "oKWA2eqlM5ZH"
      }
    },
    {
      "cell_type": "code",
      "execution_count": 1,
      "metadata": {
        "colab": {
          "base_uri": "https://localhost:8080/"
        },
        "id": "Xohfuc3WGo-M",
        "outputId": "74656448-f322-4b09-bd98-bfec2c589eba"
      },
      "outputs": [
        {
          "output_type": "stream",
          "name": "stdout",
          "text": [
            "  Installing build dependencies ... \u001b[?25l\u001b[?25hdone\n",
            "  Getting requirements to build wheel ... \u001b[?25l\u001b[?25hdone\n",
            "  Preparing metadata (pyproject.toml) ... \u001b[?25l\u001b[?25hdone\n",
            "\u001b[2K   \u001b[90m━━━━━━━━━━━━━━━━━━━━━━━━━━━━━━━━━━━━━━━━\u001b[0m \u001b[32m4.2/4.2 MB\u001b[0m \u001b[31m52.9 MB/s\u001b[0m eta \u001b[36m0:00:00\u001b[0m\n",
            "\u001b[?25h  Building wheel for agapi (pyproject.toml) ... \u001b[?25l\u001b[?25hdone\n"
          ]
        }
      ],
      "source": [
        "!pip install -q git+https://github.com/atomgptlab/agapi.git@develop\n"
      ]
    },
    {
      "cell_type": "markdown",
      "source": [
        "## Get your AtomGPT API Key\n",
        "\n"
      ],
      "metadata": {
        "id": "8z5wWhuRVzaW"
      }
    },
    {
      "cell_type": "markdown",
      "source": [
        "Website: https://atomgpt.org/\n",
        "\n",
        "Profile >> Settings >> Account >> API Keys >> Show"
      ],
      "metadata": {
        "id": "wJMWMLoJKFfC"
      }
    },
    {
      "cell_type": "code",
      "source": [
        "api_key = \"sk-\""
      ],
      "metadata": {
        "id": "FucZvqiVKILt"
      },
      "execution_count": 2,
      "outputs": []
    },
    {
      "cell_type": "code",
      "source": [
        "from agapi.client import Agapi\n",
        "client = Agapi(api_key=api_key)\n",
        "r = client.ask(\"Whats the capital of US\")\n",
        "print(r)"
      ],
      "metadata": {
        "colab": {
          "base_uri": "https://localhost:8080/"
        },
        "id": "9QIDFD90GvlW",
        "outputId": "1a1da1cc-e561-4cb1-d4cb-b7b44dbf5bca"
      },
      "execution_count": 3,
      "outputs": [
        {
          "output_type": "stream",
          "name": "stdout",
          "text": [
            "The capital of the United States is Washington, D.C.\n"
          ]
        }
      ]
    },
    {
      "cell_type": "code",
      "source": [
        "import pandas as pd"
      ],
      "metadata": {
        "id": "KoNhkdgeQsA6"
      },
      "execution_count": 4,
      "outputs": []
    },
    {
      "cell_type": "markdown",
      "source": [
        "## Queries JARVIS-DFT entries with formula MoS2"
      ],
      "metadata": {
        "id": "jUqsVXquV84J"
      }
    },
    {
      "cell_type": "code",
      "source": [
        "r = client.jarvis_dft_query(formula=\"MoS2\")\n",
        "print(pd.DataFrame(r['results']))\n"
      ],
      "metadata": {
        "colab": {
          "base_uri": "https://localhost:8080/"
        },
        "id": "SgM7SikRG5gq",
        "outputId": "b09b9da6-3adf-4caa-b258-1418547c53e6"
      },
      "execution_count": 5,
      "outputs": [
        {
          "output_type": "stream",
          "name": "stdout",
          "text": [
            "            jid search formula spg_symbol  formation_energy_peratom  \\\n",
            "0     JVASP-228  -Mo-S    MoS2       R-3m                  -0.69909   \n",
            "1   JVASP-28379  -Mo-S    MoS2   P6_3/mmc                  -0.95754   \n",
            "2   JVASP-28413  -Mo-S    MoS2      P-3m1                  -0.92268   \n",
            "3      JVASP-51  -Mo-S    MoS2        R3m                  -0.96150   \n",
            "4    JVASP-8398  -Mo-S    MoS2      I-42d                  -0.32077   \n",
            "5   JVASP-58505  -Mo-S    MoS2      F-43m                  -0.72675   \n",
            "6   JVASP-28733  -Mo-S    MoS2   P6_3/mmc                  -0.96160   \n",
            "7      JVASP-54  -Mo-S    MoS2   P6_3/mmc                  -0.96153   \n",
            "8   JVASP-34138  -Mo-S    MoS2   P6_3/mmc                  -0.96135   \n",
            "9  JVASP-111117  -Mo-S    MoS2      P-3m1                  -0.69305   \n",
            "\n",
            "   optb88vdw_bandgap                                                XML  \n",
            "0              0.000  <a href=\"https://www.ctcms.nist.gov/~knc6/stat...  \n",
            "1              0.958  <a href=\"https://www.ctcms.nist.gov/~knc6/stat...  \n",
            "2              1.207  <a href=\"https://www.ctcms.nist.gov/~knc6/stat...  \n",
            "3              0.955  <a href=\"https://www.ctcms.nist.gov/~knc6/stat...  \n",
            "4              0.000  <a href=\"https://www.ctcms.nist.gov/~knc6/stat...  \n",
            "5              0.000  <a href=\"https://www.ctcms.nist.gov/~knc6/stat...  \n",
            "6              0.921  <a href=\"https://www.ctcms.nist.gov/~knc6/stat...  \n",
            "7              0.922  <a href=\"https://www.ctcms.nist.gov/~knc6/stat...  \n",
            "8              0.920  <a href=\"https://www.ctcms.nist.gov/~knc6/stat...  \n",
            "9              0.000  <a href=\"https://www.ctcms.nist.gov/~knc6/stat...  \n"
          ]
        }
      ]
    },
    {
      "cell_type": "code",
      "source": [
        "print(r['results'][0].keys())"
      ],
      "metadata": {
        "id": "n9vE6d-TWeaT",
        "outputId": "e881e305-34e1-47e9-a32c-fe80e0ca53bc",
        "colab": {
          "base_uri": "https://localhost:8080/"
        }
      },
      "execution_count": 8,
      "outputs": [
        {
          "output_type": "stream",
          "name": "stdout",
          "text": [
            "dict_keys(['jid', 'search', 'formula', 'spg_symbol', 'formation_energy_peratom', 'optb88vdw_bandgap', 'XML'])\n"
          ]
        }
      ]
    },
    {
      "cell_type": "code",
      "source": [
        "!wget https://raw.githubusercontent.com/atomgptlab/agapi/refs/heads/main/agapi/images/POSCAR -O POSCAR"
      ],
      "metadata": {
        "colab": {
          "base_uri": "https://localhost:8080/"
        },
        "id": "pfx-HXpEJv5A",
        "outputId": "efd65326-83ab-410d-9422-c0a82db03be4"
      },
      "execution_count": 6,
      "outputs": [
        {
          "output_type": "stream",
          "name": "stdout",
          "text": [
            "--2025-09-19 19:00:54--  https://raw.githubusercontent.com/atomgptlab/agapi/refs/heads/main/agapi/images/POSCAR\n",
            "Resolving raw.githubusercontent.com (raw.githubusercontent.com)... 185.199.108.133, 185.199.109.133, 185.199.110.133, ...\n",
            "Connecting to raw.githubusercontent.com (raw.githubusercontent.com)|185.199.108.133|:443... connected.\n",
            "HTTP request sent, awaiting response... 200 OK\n",
            "Length: 194 [text/plain]\n",
            "Saving to: ‘POSCAR’\n",
            "\n",
            "\rPOSCAR                0%[                    ]       0  --.-KB/s               \rPOSCAR              100%[===================>]     194  --.-KB/s    in 0s      \n",
            "\n",
            "2025-09-19 19:00:54 (1.03 MB/s) - ‘POSCAR’ saved [194/194]\n",
            "\n"
          ]
        }
      ]
    },
    {
      "cell_type": "code",
      "source": [
        "!ls"
      ],
      "metadata": {
        "colab": {
          "base_uri": "https://localhost:8080/"
        },
        "id": "dTdm0zWCJX7i",
        "outputId": "ac1bb513-241e-4f88-c13e-3dc9707131e5"
      },
      "execution_count": 9,
      "outputs": [
        {
          "output_type": "stream",
          "name": "stdout",
          "text": [
            "POSCAR\tsample_data\n"
          ]
        }
      ]
    },
    {
      "cell_type": "markdown",
      "source": [
        "# Get ALIGNN Predictions"
      ],
      "metadata": {
        "id": "3n3BS9aLWGsw"
      }
    },
    {
      "cell_type": "code",
      "source": [
        "%%time\n",
        "r = client.alignn_query(file_path=\"POSCAR\")"
      ],
      "metadata": {
        "id": "A7vD05snJyrb",
        "outputId": "52e43901-4d10-4e7a-a7a2-afd1d665bcd3",
        "colab": {
          "base_uri": "https://localhost:8080/"
        }
      },
      "execution_count": 11,
      "outputs": [
        {
          "output_type": "stream",
          "name": "stdout",
          "text": [
            "CPU times: user 3.89 ms, sys: 182 µs, total: 4.07 ms\n",
            "Wall time: 5.86 s\n"
          ]
        }
      ]
    },
    {
      "cell_type": "code",
      "source": [
        "r"
      ],
      "metadata": {
        "colab": {
          "base_uri": "https://localhost:8080/"
        },
        "id": "a8upGQ1HJ7ld",
        "outputId": "a79dce6b-00b0-4383-abb0-3edbc8cb0ea9"
      },
      "execution_count": 12,
      "outputs": [
        {
          "output_type": "execute_result",
          "data": {
            "text/plain": [
              "{'jv_formation_energy_peratom_alignn': [0.0007288381457328796],\n",
              " 'jv_optb88vdw_total_energy_alignn': [-4.080363750457764],\n",
              " 'jv_optb88vdw_bandgap_alignn': [0.04157217592000961],\n",
              " 'jv_mbj_bandgap_alignn': [0.49050453305244446],\n",
              " 'jv_bulk_modulus_kv_alignn': [82.80049896240234],\n",
              " 'jv_shear_modulus_gv_alignn': [58.17045974731445],\n",
              " 'jv_dfpt_piezo_max_dielectric_alignn': [13.689010620117188],\n",
              " 'jv_supercon_tc_alignn': [4.345114231109619]}"
            ]
          },
          "metadata": {},
          "execution_count": 12
        }
      ]
    },
    {
      "cell_type": "markdown",
      "source": [
        "## Use ALIGNN-FF to relax atomic structure"
      ],
      "metadata": {
        "id": "T4_c63EoWKfW"
      }
    },
    {
      "cell_type": "code",
      "source": [
        "%%time\n",
        "r = client.alignn_ff_query(poscar_string=open(\"POSCAR\").read())"
      ],
      "metadata": {
        "id": "JABi551XKOcL",
        "outputId": "8a3f5edf-1ac7-4a96-8ccb-c6f1bdac33b2",
        "colab": {
          "base_uri": "https://localhost:8080/"
        }
      },
      "execution_count": 13,
      "outputs": [
        {
          "output_type": "stream",
          "name": "stdout",
          "text": [
            "CPU times: user 3.77 ms, sys: 129 µs, total: 3.9 ms\n",
            "Wall time: 3.46 s\n"
          ]
        }
      ]
    },
    {
      "cell_type": "code",
      "source": [
        "\n",
        "r"
      ],
      "metadata": {
        "id": "HSk2SGvzSijM",
        "outputId": "e5c4fa35-4ac2-4732-8b63-6efe517f45de",
        "colab": {
          "base_uri": "https://localhost:8080/"
        }
      },
      "execution_count": 14,
      "outputs": [
        {
          "output_type": "execute_result",
          "data": {
            "text/plain": [
              "{'original': 'System\\n1.0\\n5.0 0.0 0.0\\n0.0 5.0 0.0\\n0.0 0.0 5.0\\nSi \\n8 \\ndirect\\n0.25 0.75 0.25 Si\\n0.0 0.0 0.5 Si\\n0.25 0.25 0.75 Si\\n0.0 0.5 0.0 Si\\n0.75 0.75 0.75 Si\\n0.5 0.0 0.0 Si\\n0.75 0.25 0.25 Si\\n0.5 0.5 0.5 Si\\n',\n",
              " 'relaxed': 'System\\n1.0\\n5.470787519199316 -1.4416241950862216e-09 -1.3612905449087256e-09\\n-1.4416241950862216e-09 5.470787512888796 -5.9543208636546555e-09\\n-1.3612905449087256e-09 -5.9543208636546555e-09 5.470787518742589\\nSi \\n8 \\ndirect\\n0.24999986550911976 0.7499996460221202 0.24999988353079933 Si\\n1.9515226082307415e-08 5.920393115474218e-09 0.4999997715540367 Si\\n0.24999988247447189 0.24999990043339038 0.7499996635768695 Si\\n1.2293199109307938e-08 0.49999977263370166 1.0427500877776296e-08 Si\\n0.749999658587167 0.7499996383178515 0.749999650005168 Si\\n0.499999773647821 1.1855302097044588e-08 -5.372056185544641e-09 Si\\n0.7499996634949603 0.24999987362188433 0.2499998622786275 Si\\n0.4999997658280999 0.49999977612896934 0.4999997955081292 Si\\n'}"
            ]
          },
          "metadata": {},
          "execution_count": 14
        }
      ]
    },
    {
      "cell_type": "code",
      "source": [
        "from jarvis.io.vasp.inputs import Poscar\n",
        "orig = Poscar.from_string(r['original'])\n",
        "print(orig)"
      ],
      "metadata": {
        "id": "BhMNU-O2SjjR",
        "outputId": "7dfc048c-7cbd-47e3-aed1-cd4e5405abab",
        "colab": {
          "base_uri": "https://localhost:8080/"
        }
      },
      "execution_count": 15,
      "outputs": [
        {
          "output_type": "stream",
          "name": "stdout",
          "text": [
            "System\n",
            "1.0\n",
            "5.0 0.0 0.0\n",
            "0.0 5.0 0.0\n",
            "0.0 0.0 5.0\n",
            "Si\n",
            "8\n",
            "direct\n",
            "0.25 0.75 0.25 \n",
            "0.0 0.0 0.5 \n",
            "0.25 0.25 0.75 \n",
            "0.0 0.5 0.0 \n",
            "0.75 0.75 0.75 \n",
            "0.5 0.0 0.0 \n",
            "0.75 0.25 0.25 \n",
            "0.5 0.5 0.5 \n",
            "\n"
          ]
        }
      ]
    },
    {
      "cell_type": "code",
      "source": [
        "relaxed = Poscar.from_string(r['relaxed'])\n",
        "print(relaxed)"
      ],
      "metadata": {
        "id": "_CSijPLSW4Ry",
        "outputId": "d84e0723-ded0-4ee2-fb32-1d9d9ecbacb3",
        "colab": {
          "base_uri": "https://localhost:8080/"
        }
      },
      "execution_count": 16,
      "outputs": [
        {
          "output_type": "stream",
          "name": "stdout",
          "text": [
            "System\n",
            "1.0\n",
            "5.470787519199316 -1.4416241950862216e-09 -1.3612905449087256e-09\n",
            "-1.4416241950862216e-09 5.470787512888796 -5.9543208636546555e-09\n",
            "-1.3612905449087256e-09 -5.9543208636546555e-09 5.470787518742589\n",
            "Si\n",
            "8\n",
            "direct\n",
            "0.24999986550911976 0.7499996460221202 0.24999988353079933 \n",
            "1.9515226082307415e-08 5.920393115474218e-09 0.4999997715540367 \n",
            "0.24999988247447189 0.24999990043339038 0.7499996635768695 \n",
            "1.2293199109307938e-08 0.49999977263370166 1.0427500877776296e-08 \n",
            "0.749999658587167 0.7499996383178515 0.749999650005168 \n",
            "0.499999773647821 1.1855302097044588e-08 -5.372056185544641e-09 \n",
            "0.7499996634949603 0.24999987362188433 0.2499998622786275 \n",
            "0.4999997658280999 0.49999977612896934 0.4999997955081292 \n",
            "\n"
          ]
        }
      ]
    },
    {
      "cell_type": "markdown",
      "source": [
        "## Protein folding with ESM fold"
      ],
      "metadata": {
        "id": "w0txrscdXBFh"
      }
    },
    {
      "cell_type": "code",
      "source": [
        "# Protein fold (returns binary content if format=zip)\n",
        "zbytes = client.protein_fold_query(sequence=\"AAAAA\", format=\"zip\")\n",
        "open(\"protein.zip\", \"wb\").write(zbytes)"
      ],
      "metadata": {
        "id": "2-LyPAgRW8en",
        "outputId": "d8ac342b-c647-4985-8614-19ba23eb1a8f",
        "colab": {
          "base_uri": "https://localhost:8080/"
        }
      },
      "execution_count": 17,
      "outputs": [
        {
          "output_type": "execute_result",
          "data": {
            "text/plain": [
              "185"
            ]
          },
          "metadata": {},
          "execution_count": 17
        }
      ]
    },
    {
      "cell_type": "code",
      "source": [
        "!ls"
      ],
      "metadata": {
        "id": "1Fjco5Y5W_Vg",
        "outputId": "b9bad010-8823-483e-ec1e-dcdc91e06c31",
        "colab": {
          "base_uri": "https://localhost:8080/"
        }
      },
      "execution_count": 18,
      "outputs": [
        {
          "output_type": "stream",
          "name": "stdout",
          "text": [
            "POSCAR\tprotein.zip  sample_data\n"
          ]
        }
      ]
    },
    {
      "cell_type": "code",
      "source": [
        "!wget https://raw.githubusercontent.com/atomgptlab/agapi/refs/heads/main/agapi/images/Lab6data.dat -O Lab6data.dat"
      ],
      "metadata": {
        "id": "v0Gt1nWnXLOF",
        "outputId": "96925e2b-63b4-4507-a672-d12188060767",
        "colab": {
          "base_uri": "https://localhost:8080/"
        }
      },
      "execution_count": 19,
      "outputs": [
        {
          "output_type": "stream",
          "name": "stdout",
          "text": [
            "--2025-09-19 19:04:09--  https://raw.githubusercontent.com/atomgptlab/agapi/refs/heads/main/agapi/images/Lab6data.dat\n",
            "Resolving raw.githubusercontent.com (raw.githubusercontent.com)... 185.199.108.133, 185.199.109.133, 185.199.110.133, ...\n",
            "Connecting to raw.githubusercontent.com (raw.githubusercontent.com)|185.199.108.133|:443... connected.\n",
            "HTTP request sent, awaiting response... 200 OK\n",
            "Length: 168910 (165K) [text/plain]\n",
            "Saving to: ‘Lab6data.dat’\n",
            "\n",
            "Lab6data.dat        100%[===================>] 164.95K  --.-KB/s    in 0.02s   \n",
            "\n",
            "2025-09-19 19:04:09 (7.61 MB/s) - ‘Lab6data.dat’ saved [168910/168910]\n",
            "\n"
          ]
        }
      ]
    },
    {
      "cell_type": "markdown",
      "source": [
        "## XRD Pattern matching based atomic structure"
      ],
      "metadata": {
        "id": "w4MeCDHlXPBo"
      }
    },
    {
      "cell_type": "code",
      "source": [
        "r = client.pxrd_query(file_path=\"Lab6data.dat\")\n",
        "print(r)"
      ],
      "metadata": {
        "id": "a_O4Owt8XAKH",
        "outputId": "774ebc90-4fbd-46ae-c744-a142acec85d5",
        "colab": {
          "base_uri": "https://localhost:8080/"
        }
      },
      "execution_count": 20,
      "outputs": [
        {
          "output_type": "stream",
          "name": "stdout",
          "text": [
            "System\n",
            "1.0\n",
            "4.154998579020728 0.0 0.0\n",
            "0.0 4.154998579020728 0.0\n",
            "0.0 0.0 4.154998579020728\n",
            "B La \n",
            "6 1 \n",
            "direct\n",
            "0.8002152990241852 0.5 0.5 B\n",
            "0.1997847009758148 0.5 0.5 B\n",
            "0.5 0.5 0.8002152990241852 B\n",
            "0.5 0.5 0.1997847009758148 B\n",
            "0.5 0.1997847009758148 0.5 B\n",
            "0.5 0.8002152990241852 0.5 B\n",
            "0.0 0.0 0.0 La\n",
            "\n"
          ]
        }
      ]
    },
    {
      "cell_type": "code",
      "source": [],
      "metadata": {
        "id": "kDO8eyrrXM1S"
      },
      "execution_count": null,
      "outputs": []
    }
  ]
}